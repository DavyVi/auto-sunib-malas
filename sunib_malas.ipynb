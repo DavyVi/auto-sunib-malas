{
 "cells": [
  {
   "cell_type": "code",
   "execution_count": 3,
   "metadata": {},
   "outputs": [],
   "source": [
    "from selenium import webdriver\n",
    "from selenium.webdriver.support.ui import WebDriverWait\n",
    "from selenium.webdriver.support import expected_conditions as EC\n",
    "from selenium.webdriver.common.by import By\n",
    "\n",
    "import requests\n",
    "import traceback\n",
    "import pandas as pd"
   ]
  },
  {
   "cell_type": "markdown",
   "metadata": {},
   "source": [
    "Pop up browser Chrome"
   ]
  },
  {
   "cell_type": "code",
   "execution_count": 5,
   "metadata": {},
   "outputs": [],
   "source": [
    "# Wajib dijalanin\n",
    "driver = webdriver.Chrome()\n",
    "driver.get(\"https://enrichment.apps.binus.ac.id/Login\") "
   ]
  },
  {
   "cell_type": "code",
   "execution_count": 4,
   "metadata": {},
   "outputs": [],
   "source": [
    "# Kalau mau automated login, isi email dan password, kalau tidak, biarkan kosong trus login manual via browser pop up\n",
    "email = \"\"\n",
    "password = \"\""
   ]
  },
  {
   "cell_type": "markdown",
   "metadata": {},
   "source": [
    "Automated Login w/ Selenium"
   ]
  },
  {
   "cell_type": "code",
   "execution_count": 6,
   "metadata": {},
   "outputs": [],
   "source": [
    "login_button = WebDriverWait(driver, 3).until(\n",
    "                EC.presence_of_element_located((By.XPATH, '//*[@id=\"header\"]/div/section[2]/nav/div/ul[2]/a'))\n",
    "                )\n",
    "login_button.click()"
   ]
  },
  {
   "cell_type": "code",
   "execution_count": 7,
   "metadata": {},
   "outputs": [],
   "source": [
    "microsoft_sign_in_button = WebDriverWait(driver, 3).until(\n",
    "                EC.presence_of_element_located((By.XPATH, '//*[@id=\"btnLogin\"]'))\n",
    "                )\n",
    "microsoft_sign_in_button.click()"
   ]
  },
  {
   "cell_type": "code",
   "execution_count": 9,
   "metadata": {},
   "outputs": [],
   "source": [
    "# login with microsoft account\n",
    "driver.find_element(By.CSS_SELECTOR, 'input[name=\"loginfmt\"]').send_keys(email)"
   ]
  },
  {
   "cell_type": "code",
   "execution_count": 10,
   "metadata": {},
   "outputs": [],
   "source": [
    "next_button = WebDriverWait(driver, 3).until(\n",
    "                EC.presence_of_element_located((By.XPATH, '//*[@id=\"idSIButton9\"]'))\n",
    "                )\n",
    "next_button.click()"
   ]
  },
  {
   "cell_type": "code",
   "execution_count": 11,
   "metadata": {},
   "outputs": [],
   "source": [
    "driver.find_element(By.CSS_SELECTOR, 'input[name=\"passwd\"]').send_keys(password)"
   ]
  },
  {
   "cell_type": "code",
   "execution_count": 13,
   "metadata": {},
   "outputs": [],
   "source": [
    "sign_in_button = WebDriverWait(driver, 3).until(\n",
    "                EC.presence_of_element_located((By.XPATH, '//*[@id=\"idSIButton9\"]'))\n",
    "                )\n",
    "sign_in_button.click()"
   ]
  },
  {
   "cell_type": "code",
   "execution_count": 14,
   "metadata": {},
   "outputs": [],
   "source": [
    "yes_button = WebDriverWait(driver, 3).until(\n",
    "                EC.presence_of_element_located((By.XPATH, '//*[@id=\"idSIButton9\"]'))\n",
    "                )\n",
    "yes_button.click()"
   ]
  },
  {
   "cell_type": "code",
   "execution_count": 15,
   "metadata": {},
   "outputs": [],
   "source": [
    "activity_enrichment_app = WebDriverWait(driver, 3).until(\n",
    "                EC.presence_of_element_located((By.XPATH, '//*[@id=\"StudentTermDashboard\"]/span[1]/a[2]'))\n",
    "                )\n",
    "activity_enrichment_app.click()"
   ]
  },
  {
   "cell_type": "code",
   "execution_count": 16,
   "metadata": {},
   "outputs": [],
   "source": [
    "select_account = WebDriverWait(driver, 3).until(\n",
    "                EC.presence_of_element_located((By.XPATH, '//*[@id=\"tilesHolder\"]/div[1]/div/div[1]'))\n",
    "                )\n",
    "select_account.click()"
   ]
  },
  {
   "cell_type": "markdown",
   "metadata": {},
   "source": [
    "Get cookie, then send request payload"
   ]
  },
  {
   "cell_type": "code",
   "execution_count": 18,
   "metadata": {},
   "outputs": [
    {
     "name": "stdout",
     "output_type": "stream",
     "text": [
      "{'_ga': 'GA1.3.1377940165.1715250874'}\n",
      "{'_ga_6QNPVQ9YZ8': 'GS1.1.1715250953.1.0.1715250953.0.0.0'}\n",
      "{'.AspNetCore.Antiforgery.9fXoN5jHCXs': 'CfDJ8EJ-S0CFkzdKknk1Ofb49PzzYmtq9BaHd_id2tgaaWkXxAeAqyPACaju5ATlMdvjIBhX6vu9cEPtAfmJYfaPO7mhGswZpm80qHdfpN3G-Yg8jZd6jE79X4S0mV209oEjH9RSDz5IwL2F1LvHjJgPiKs'}\n",
      "{'.BinusActivity.Session': 'CfDJ8EJ%2BS0CFkzdKknk1Ofb49PwGofEjjRd%2BBA2phTKywcIhRcXlYhKcrsTEawGdefnfBTH8INfJLZk9%2B4gpm2U%2Bs%2BUSSdlj8fB1M4uNMiDwBC9AEK6dP0GxgSMPrD1qi2v1EmmWk0dGFPNObkV5ghzXhBhGT5F6E9Ix74QslBEylEoa'}\n",
      "{'_gat_gtag_UA_178239469_8': '1'}\n",
      "{'.AspNetCore.Cookies': 'CfDJ8EJ-S0CFkzdKknk1Ofb49Px_h5KNHsaISrAGYGZumvW5wOjnQMs2e13qWkwe3ms3X9k1-AHiSiao3E3emINYYvJ9paharhrmta9onJf7itk4f_SX2KWyl15fRuEzSYwquh-D6g09yNc-sItMvQ39Y1V6T_VzRp-FmdZKm_cjSiIVNFHZoVz2Fq_jqwzQEObCOab4z5LCa5wlFPtFaKgXGtvDv6VBnmRhIlCeCJ8UBqV2QP34ztSHYJbPUoswvtkau-R1YGdsf_nZSSFsJEuPLVJm-NnSc6pCiGi6EfbAFDFiV_0MsAa35ZLRhNFcHBkjxFJPimI5oxFG4BnI1o1PMAumqlfD754JJxBzXWwIdXpVc29PI9D31n12upL0CeZkDAuaOiFRblh_S6FM79b39AwfsyuKrPNWIGbkfl3ygMSx6rwdD0iwwOraxfh02U9hccsOGIvJTyosiU-PDmYEQWNX8peZmpk7Nd6WfWQqGMc3aktIK2N3Ygn8OHsMpRkEwMG48j4vFqkTe8tYH87tmEhdur2h2hpHDKbwJ0KPtDmb7bnZe4BG4sEC04VHJMzR5fn1nbckqGUYWOnL1-ibj2w3wgz2_WTf4EYPBueWaAFZEla2n4krb09ikJwuUH4Yk1nmJ3F3RC2tfoWezzzMhHHTjdstIUi_rrvyHwlWGrJl8wfNNLIq3nmCU62EoJcMP-kUWTAqlLJcQAXhL3kvAlxOAlWOnV0VgCLjxrh83IU3Yp_6Vhynd7oBdD4r1VMxxXpNVdjTuXf-moy2TnNMy_TpgZO-f7MtAc7HbgFEPaB3Vpi1QAb6Kg6RnVkwpp3IDqB8s3n4srlk1H_sfT65B8kaj_ZG_vjaVLmCggAne1X6sDB67bg4acLWqqwFVoz3gSiFo-4fqygt5RiUzESvQg9Rgxw0BoFeHeV9FUwFt7fKfWS0KUhDZbaBnaOe_o9EOKAD60MZtRYfcG3JW4bKzdNkGcHKjRi7hpbqJs8izP4KioKjgK_pufyxA6xgbnkoaFBVEqLOFclHRRQG5Otbwmc9gn1mSQQ9a_1HbfPwn-sI1FEVamo_zWRMM3-rMAV7YPvr7DwYX8zu6kdqwnJdaWonQI2OwGsXqNWZbA9DeE67VBAsa2i3CQ8BF6C9KTl8ZDVWLiORrySMez1gHcPSqMcaSIbjAP6fggNYjZlgoOSKGkALgD1QzqwDmMLzX9D1ERpPrIHMER-S3vWJ3o7l2yn_OY4n3nhqshxwR-nEb_xsSZZzkHujoN0OhnqKMdC2RYvAkIArjhVgoV31vhhbbqvXgm1CMi7LiEWcq-rD4STGaN3RUZMczjKexuNGbecSPIjvNEB0LtPGf8vfi4iVn2x2kDpmLvAGE_VhOtBaAOS9KLSxD_B4VjdwrLLvnlnkOTypTHpBnYMTgDx2V-K70VajLlUTPeCb6me1sHBiBYhKnZwjo_FZMnvO0d3aRX4o4e1ND86QflHP8XSzGADQnJ9y8gYSSeWbfC5vwH8KgVZJC2s5EJxAy-Bl9oD3I8oHgrVroj2Ua3XSTFcxj2DraqtidcxddFiTLh6NNts5t4hRn2lWfIs6LeNOGF53rBWMsa-nUea-EWSr-SXhD2cvXDK_nQ3ZFrgsCDdrrOCh3acZb1ivXnd-Glyugks3_wAe0qnyZFikGvq_Rou47e75eXYySt_mh_r4qdJ7B4uePQhOM2QKJ_Ml7BIi-Olf-zGliXfRDD5j4NP_wIFD2A5JAEKsU_g6v2vbWSYvDkjK5vVLtOduPO0utKFWNFKMJ7jH_lplzrT1YAYFRLVIfTC5akdTVhesvuVVuFHWO4H4IPlttkkTWeXR_8OVHqroy4f7TrAp-vGmA7m37F-gXv4jycsyWKgfBMn0n_Ipd_iznaWy8-PYF-7BxqV66tjg8oHf6oin_RQGJUavJyQXIJ5Vsyj0EMEH3OjAJVhE3LVhIqK1xIpPDtMl2oy_oZ5AaEWOnMPO3nS04OxwbdB9nILGmfBnbr-yaP9vxaoB-YbpOFfSh9-YiUWUWCVB0DJXUlFxDUT1RWuHSZU1NKRLA8GWfIWfUwUR04aF7fyI7glUsvacWS6YWuDSnI3tCRPMiMI4HJSEw9DkqZyVSBiHuwzTGufP5szqKG8PeYoRsO7ZYEIoLw3owA_Ck3OVTHBTrz6dHdahjjvT1Hc2L2aS2dH_vU6ihPpKG_vjy8hcpq1wzIdaRvAV1e4MwHhrhKXFdwVk7vabfPlr-7UbjuHkUUEaiTj8yDqko1zHrOQ3rxQ4sULsA99sb-W7Avq7z4r050lCDE-OBljVTM7_MZYUuXwdDzK43M-MnLgaVz_Sb5LqmQ3qnLQ-YYBSRYWBWYk4YvmT2P4a2udaKjtPjcwSfxLo-BGhwbTbFh98AJ26LakG8rXvcmy13rn1d8rVAppBA55peSP_mm5Mow-rlu5ImeXQ4HyTpWWmY6OgPpHuVINQfDNz6b3sndJsSzSoXAba7-_uVWikunl2szeXX2FZhG5EoEBh38oGYJqzLeX-WLqVvhynKbJcqbYWM6HXSIPUS9Imemc1Lrl6HCx4LadYPm3h9KXfYOkaZQN5SUFOptu132hJfdu7NmgkzJ90OBKetcgqpSYDvkJd3c8FtuQtqox-BOomSYZiTet54rmfiah4qQCZwyrbDcVhcdqlOKfA-kzZCw'}\n",
      "{'_gid': 'GA1.3.1551633370.1715250875'}\n",
      "{'_ga_23JKCE1Z4K': 'GS1.1.1715250876.1.1.1715250937.0.0.0'}\n",
      "{'ARRAffinitySameSite': 'e755ddc0beb98810dae9321c505a66ef31bd20a41a89b5798ce19ec1b59006db'}\n",
      "{'ARRAffinity': 'e755ddc0beb98810dae9321c505a66ef31bd20a41a89b5798ce19ec1b59006db'}\n",
      "{'_ga_0DZR1ECG3E': 'GS1.1.1715250874.1.1.1715250937.0.0.0'}\n",
      "<RequestsCookieJar[<Cookie _ga=GA1.3.1377940165.1715250874 for />, <Cookie _ga_6QNPVQ9YZ8=GS1.1.1715250953.1.0.1715250953.0.0.0 for />, <Cookie .AspNetCore.Antiforgery.9fXoN5jHCXs=CfDJ8EJ-S0CFkzdKknk1Ofb49PzzYmtq9BaHd_id2tgaaWkXxAeAqyPACaju5ATlMdvjIBhX6vu9cEPtAfmJYfaPO7mhGswZpm80qHdfpN3G-Yg8jZd6jE79X4S0mV209oEjH9RSDz5IwL2F1LvHjJgPiKs for />, <Cookie .BinusActivity.Session=CfDJ8EJ%2BS0CFkzdKknk1Ofb49PwGofEjjRd%2BBA2phTKywcIhRcXlYhKcrsTEawGdefnfBTH8INfJLZk9%2B4gpm2U%2Bs%2BUSSdlj8fB1M4uNMiDwBC9AEK6dP0GxgSMPrD1qi2v1EmmWk0dGFPNObkV5ghzXhBhGT5F6E9Ix74QslBEylEoa for />, <Cookie _gat_gtag_UA_178239469_8=1 for />, <Cookie .AspNetCore.Cookies=CfDJ8EJ-S0CFkzdKknk1Ofb49Px_h5KNHsaISrAGYGZumvW5wOjnQMs2e13qWkwe3ms3X9k1-AHiSiao3E3emINYYvJ9paharhrmta9onJf7itk4f_SX2KWyl15fRuEzSYwquh-D6g09yNc-sItMvQ39Y1V6T_VzRp-FmdZKm_cjSiIVNFHZoVz2Fq_jqwzQEObCOab4z5LCa5wlFPtFaKgXGtvDv6VBnmRhIlCeCJ8UBqV2QP34ztSHYJbPUoswvtkau-R1YGdsf_nZSSFsJEuPLVJm-NnSc6pCiGi6EfbAFDFiV_0MsAa35ZLRhNFcHBkjxFJPimI5oxFG4BnI1o1PMAumqlfD754JJxBzXWwIdXpVc29PI9D31n12upL0CeZkDAuaOiFRblh_S6FM79b39AwfsyuKrPNWIGbkfl3ygMSx6rwdD0iwwOraxfh02U9hccsOGIvJTyosiU-PDmYEQWNX8peZmpk7Nd6WfWQqGMc3aktIK2N3Ygn8OHsMpRkEwMG48j4vFqkTe8tYH87tmEhdur2h2hpHDKbwJ0KPtDmb7bnZe4BG4sEC04VHJMzR5fn1nbckqGUYWOnL1-ibj2w3wgz2_WTf4EYPBueWaAFZEla2n4krb09ikJwuUH4Yk1nmJ3F3RC2tfoWezzzMhHHTjdstIUi_rrvyHwlWGrJl8wfNNLIq3nmCU62EoJcMP-kUWTAqlLJcQAXhL3kvAlxOAlWOnV0VgCLjxrh83IU3Yp_6Vhynd7oBdD4r1VMxxXpNVdjTuXf-moy2TnNMy_TpgZO-f7MtAc7HbgFEPaB3Vpi1QAb6Kg6RnVkwpp3IDqB8s3n4srlk1H_sfT65B8kaj_ZG_vjaVLmCggAne1X6sDB67bg4acLWqqwFVoz3gSiFo-4fqygt5RiUzESvQg9Rgxw0BoFeHeV9FUwFt7fKfWS0KUhDZbaBnaOe_o9EOKAD60MZtRYfcG3JW4bKzdNkGcHKjRi7hpbqJs8izP4KioKjgK_pufyxA6xgbnkoaFBVEqLOFclHRRQG5Otbwmc9gn1mSQQ9a_1HbfPwn-sI1FEVamo_zWRMM3-rMAV7YPvr7DwYX8zu6kdqwnJdaWonQI2OwGsXqNWZbA9DeE67VBAsa2i3CQ8BF6C9KTl8ZDVWLiORrySMez1gHcPSqMcaSIbjAP6fggNYjZlgoOSKGkALgD1QzqwDmMLzX9D1ERpPrIHMER-S3vWJ3o7l2yn_OY4n3nhqshxwR-nEb_xsSZZzkHujoN0OhnqKMdC2RYvAkIArjhVgoV31vhhbbqvXgm1CMi7LiEWcq-rD4STGaN3RUZMczjKexuNGbecSPIjvNEB0LtPGf8vfi4iVn2x2kDpmLvAGE_VhOtBaAOS9KLSxD_B4VjdwrLLvnlnkOTypTHpBnYMTgDx2V-K70VajLlUTPeCb6me1sHBiBYhKnZwjo_FZMnvO0d3aRX4o4e1ND86QflHP8XSzGADQnJ9y8gYSSeWbfC5vwH8KgVZJC2s5EJxAy-Bl9oD3I8oHgrVroj2Ua3XSTFcxj2DraqtidcxddFiTLh6NNts5t4hRn2lWfIs6LeNOGF53rBWMsa-nUea-EWSr-SXhD2cvXDK_nQ3ZFrgsCDdrrOCh3acZb1ivXnd-Glyugks3_wAe0qnyZFikGvq_Rou47e75eXYySt_mh_r4qdJ7B4uePQhOM2QKJ_Ml7BIi-Olf-zGliXfRDD5j4NP_wIFD2A5JAEKsU_g6v2vbWSYvDkjK5vVLtOduPO0utKFWNFKMJ7jH_lplzrT1YAYFRLVIfTC5akdTVhesvuVVuFHWO4H4IPlttkkTWeXR_8OVHqroy4f7TrAp-vGmA7m37F-gXv4jycsyWKgfBMn0n_Ipd_iznaWy8-PYF-7BxqV66tjg8oHf6oin_RQGJUavJyQXIJ5Vsyj0EMEH3OjAJVhE3LVhIqK1xIpPDtMl2oy_oZ5AaEWOnMPO3nS04OxwbdB9nILGmfBnbr-yaP9vxaoB-YbpOFfSh9-YiUWUWCVB0DJXUlFxDUT1RWuHSZU1NKRLA8GWfIWfUwUR04aF7fyI7glUsvacWS6YWuDSnI3tCRPMiMI4HJSEw9DkqZyVSBiHuwzTGufP5szqKG8PeYoRsO7ZYEIoLw3owA_Ck3OVTHBTrz6dHdahjjvT1Hc2L2aS2dH_vU6ihPpKG_vjy8hcpq1wzIdaRvAV1e4MwHhrhKXFdwVk7vabfPlr-7UbjuHkUUEaiTj8yDqko1zHrOQ3rxQ4sULsA99sb-W7Avq7z4r050lCDE-OBljVTM7_MZYUuXwdDzK43M-MnLgaVz_Sb5LqmQ3qnLQ-YYBSRYWBWYk4YvmT2P4a2udaKjtPjcwSfxLo-BGhwbTbFh98AJ26LakG8rXvcmy13rn1d8rVAppBA55peSP_mm5Mow-rlu5ImeXQ4HyTpWWmY6OgPpHuVINQfDNz6b3sndJsSzSoXAba7-_uVWikunl2szeXX2FZhG5EoEBh38oGYJqzLeX-WLqVvhynKbJcqbYWM6HXSIPUS9Imemc1Lrl6HCx4LadYPm3h9KXfYOkaZQN5SUFOptu132hJfdu7NmgkzJ90OBKetcgqpSYDvkJd3c8FtuQtqox-BOomSYZiTet54rmfiah4qQCZwyrbDcVhcdqlOKfA-kzZCw for />, <Cookie _gid=GA1.3.1551633370.1715250875 for />, <Cookie _ga_23JKCE1Z4K=GS1.1.1715250876.1.1.1715250937.0.0.0 for />, <Cookie ARRAffinitySameSite=e755ddc0beb98810dae9321c505a66ef31bd20a41a89b5798ce19ec1b59006db for />, <Cookie ARRAffinity=e755ddc0beb98810dae9321c505a66ef31bd20a41a89b5798ce19ec1b59006db for />, <Cookie _ga_0DZR1ECG3E=GS1.1.1715250874.1.1.1715250937.0.0.0 for />]>\n"
     ]
    }
   ],
   "source": [
    "session = requests.Session()\n",
    "for cookie in driver.get_cookies():\n",
    "    print({cookie['name']: cookie['value']})\n",
    "    session.cookies.update({cookie['name']: cookie['value']})\n",
    "\n",
    "print(session.cookies)"
   ]
  },
  {
   "cell_type": "code",
   "execution_count": 19,
   "metadata": {},
   "outputs": [],
   "source": [
    "data = pd.read_csv(\"Sunib logger - April.csv\", dtype = 'string', keep_default_na = False) # Ganti nama file csv sesuai dengan nama file csv yang diinginkan\n",
    "base_url = \"https://activity-enrichment.apps.binus.ac.id/LogBook\"\n",
    "\n",
    "logbook_id_mapping = {}"
   ]
  },
  {
   "cell_type": "code",
   "execution_count": 20,
   "metadata": {},
   "outputs": [],
   "source": [
    "def get_months():\n",
    "\ttry:\n",
    "\t\tresponse = session.get(base_url + \"/GetMonths\")\n",
    "\t\traw_month_mapping = response.json()\n",
    "\n",
    "\t\tif response.status_code != 200:\n",
    "\t\t\traise Exception(f\"{response.text}\")\n",
    "\n",
    "\t\tfor month in raw_month_mapping['data']:\n",
    "\t\t\tlogbook_id_mapping.update({\n",
    "\t\t\t\tf\"{month['monthInt']:02d}\" : f\"{month['logBookHeaderID']}\"\n",
    "\t\t\t})\n",
    "\texcept Exception:\n",
    "\t\texception_message = traceback.format_exc()\n",
    "\t\tprint(f\"Failed to get logbook ID. Reason: {exception_message}\")"
   ]
  },
  {
   "cell_type": "code",
   "execution_count": 21,
   "metadata": {},
   "outputs": [],
   "source": [
    "def send_request(date, clock_in, clock_out, activity, description):\n",
    "\ttry:\n",
    "\t\tpayload = {\n",
    "\t\t\t'model[ID]': \"00000000-0000-0000-0000-000000000000\",\n",
    "\t\t\t'model[LogBookHeaderID]': logbook_id_mapping[date[5:7]],\n",
    "\t\t\t'model[Date]': f\"{date}T00:00:00\",\n",
    "\t\t\t'model[Activity]': activity,\n",
    "\t\t\t'model[ClockIn]': clock_in,\n",
    "\t\t\t'model[ClockOut]': clock_out,\n",
    "\t\t\t'model[Description]': description\n",
    "\t\t}\n",
    "\t\tresponse = session.post(base_url + \"/StudentSave\", data = payload)\n",
    "\t\tprint(f\"{date}: {response.text}\")\n",
    "\texcept Exception:\n",
    "\t\texception_message = traceback.format_exc()\n",
    "\t\tprint(f\"{date}: {exception_message}\")"
   ]
  },
  {
   "cell_type": "code",
   "execution_count": 22,
   "metadata": {},
   "outputs": [],
   "source": [
    "def main():\n",
    "\tget_months()\n",
    "\n",
    "\tfor key, log in data.iterrows():\n",
    "\t\tif log['activity'] == \"\":\n",
    "\t\t\tcontinue\n",
    "\t\telif log['activity'] == \"OFF\":\n",
    "\t\t\tsend_request(str(log['date']), \"OFF\", \"OFF\", \"OFF\", \"OFF\")\n",
    "\t\telse:\n",
    "\t\t\tsend_request(str(log['date']), \"09:00 am\", \"06:00 pm\", log['activity'], log['description'])"
   ]
  },
  {
   "cell_type": "code",
   "execution_count": 23,
   "metadata": {},
   "outputs": [
    {
     "name": "stdout",
     "output_type": "stream",
     "text": [
      "2024-04-01: {\"json\":true,\"status\":\"Successfully added a new record!\"}\n",
      "2024-04-02: {\"json\":true,\"status\":\"Successfully added a new record!\"}\n",
      "2024-04-03: {\"json\":true,\"status\":\"Successfully added a new record!\"}\n",
      "2024-04-04: {\"json\":true,\"status\":\"Successfully added a new record!\"}\n",
      "2024-04-05: {\"json\":true,\"status\":\"Successfully added a new record!\"}\n",
      "2024-04-06: {\"json\":true,\"status\":\"Successfully added a new record!\"}\n",
      "2024-04-07: {\"json\":true,\"status\":\"Successfully added a new record!\"}\n",
      "2024-04-08: {\"json\":true,\"status\":\"Successfully added a new record!\"}\n",
      "2024-04-09: {\"json\":true,\"status\":\"Successfully added a new record!\"}\n",
      "2024-04-10: {\"json\":true,\"status\":\"Successfully added a new record!\"}\n",
      "2024-04-11: {\"json\":true,\"status\":\"Successfully added a new record!\"}\n",
      "2024-04-12: {\"json\":true,\"status\":\"Successfully added a new record!\"}\n",
      "2024-04-13: {\"json\":true,\"status\":\"Successfully added a new record!\"}\n",
      "2024-04-14: {\"json\":true,\"status\":\"Successfully added a new record!\"}\n",
      "2024-04-15: {\"json\":true,\"status\":\"Successfully added a new record!\"}\n",
      "2024-04-16: {\"json\":true,\"status\":\"Successfully added a new record!\"}\n",
      "2024-04-17: {\"json\":true,\"status\":\"Successfully added a new record!\"}\n",
      "2024-04-18: {\"json\":true,\"status\":\"Successfully added a new record!\"}\n",
      "2024-04-19: {\"json\":true,\"status\":\"Successfully added a new record!\"}\n",
      "2024-04-20: {\"json\":true,\"status\":\"Successfully added a new record!\"}\n",
      "2024-04-21: {\"json\":true,\"status\":\"Successfully added a new record!\"}\n",
      "2024-04-22: {\"json\":true,\"status\":\"Successfully added a new record!\"}\n",
      "2024-04-23: {\"json\":true,\"status\":\"Successfully added a new record!\"}\n",
      "2024-04-24: {\"json\":true,\"status\":\"Successfully added a new record!\"}\n",
      "2024-04-25: {\"json\":true,\"status\":\"Successfully added a new record!\"}\n",
      "2024-04-26: {\"json\":true,\"status\":\"Successfully added a new record!\"}\n",
      "2024-04-27: {\"json\":true,\"status\":\"Successfully added a new record!\"}\n",
      "2024-04-28: {\"json\":true,\"status\":\"Successfully added a new record!\"}\n",
      "2024-04-29: {\"json\":true,\"status\":\"Successfully added a new record!\"}\n",
      "2024-04-30: {\"json\":true,\"status\":\"Successfully added a new record!\"}\n"
     ]
    }
   ],
   "source": [
    "main()"
   ]
  }
 ],
 "metadata": {
  "kernelspec": {
   "display_name": "Selenium",
   "language": "python",
   "name": "python3"
  },
  "language_info": {
   "codemirror_mode": {
    "name": "ipython",
    "version": 3
   },
   "file_extension": ".py",
   "mimetype": "text/x-python",
   "name": "python",
   "nbconvert_exporter": "python",
   "pygments_lexer": "ipython3",
   "version": "3.11.0"
  }
 },
 "nbformat": 4,
 "nbformat_minor": 2
}
